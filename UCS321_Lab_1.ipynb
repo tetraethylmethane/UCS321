{
  "nbformat": 4,
  "nbformat_minor": 0,
  "metadata": {
    "colab": {
      "provenance": [],
      "authorship_tag": "ABX9TyNIwIT19AR6uGA5qbwHDBSd",
      "include_colab_link": true
    },
    "kernelspec": {
      "name": "python3",
      "display_name": "Python 3"
    },
    "language_info": {
      "name": "python"
    }
  },
  "cells": [
    {
      "cell_type": "markdown",
      "metadata": {
        "id": "view-in-github",
        "colab_type": "text"
      },
      "source": [
        "<a href=\"https://colab.research.google.com/github/tetraethylmethane/UCS321/blob/main/UCS321_Lab_1.ipynb\" target=\"_parent\"><img src=\"https://colab.research.google.com/assets/colab-badge.svg\" alt=\"Open In Colab\"/></a>"
      ]
    },
    {
      "cell_type": "markdown",
      "source": [
        "A class with 10 students wants to produce some information from the results of the four standard  tests in Maths, Science, English and IT. Each test is out of 100 marks. The information output  should be the highest, lowest and average mark for each test and the highest, lowest and average  mark overall. Write a program in Python to complete this task.\n"
      ],
      "metadata": {
        "id": "-QgXaa3Y4yr8"
      }
    },
    {
      "cell_type": "code",
      "source": [
        "num_students = 10\n",
        "subjects = [\"Maths\", \"Science\", \"English\", \"IT\"]\n",
        "students = []\n",
        "print(\"Please enter the marks (0 to 100) for each student:\")\n",
        "for i in range(num_students):\n",
        "    print(f\"\\nStudent {i + 1}:\")\n",
        "    marks = {}\n",
        "    for subject in subjects:\n",
        "        while True:\n",
        "            mark_input = input(f\"Enter marks for {subject}: \")\n",
        "            if mark_input.isdigit():\n",
        "                mark = int(mark_input)\n",
        "                if 0 <= mark <= 100:\n",
        "                    marks[subject] = mark\n",
        "                    break\n",
        "                else:\n",
        "                    print(\"Please enter a number between 0 and 100.\")\n",
        "            else:\n",
        "                print(\"Please enter a valid number.\")\n",
        "    students.append(marks)\n",
        "\n",
        "print(\"\\nSubject-wise results:\")\n",
        "for subject in subjects:\n",
        "    subject_marks = [student[subject] for student in students]\n",
        "    highest = max(subject_marks)\n",
        "    lowest = min(subject_marks)\n",
        "    average = sum(subject_marks) / len(subject_marks)\n",
        "    print(f\"\\n{subject}:\")\n",
        "    print(f\" Highest mark: {highest}\")\n",
        "    print(f\" Lowest mark: {lowest}\")\n",
        "    print(f\" Average mark: {average:.2f}\")\n",
        "\n",
        "overall_marks = [sum(student.values()) for student in students]\n",
        "highest_overall = max(overall_marks)\n",
        "lowest_overall = min(overall_marks)\n",
        "average_overall = sum(overall_marks) / len(overall_marks)\n",
        "print(\"\\nOverall results (total marks across all subjects):\")\n",
        "print(f\" Highest total: {highest_overall}\")\n",
        "print(f\" Lowest total: {lowest_overall}\")\n",
        "print(f\" Average total: {average_overall:.2f}\")"
      ],
      "metadata": {
        "id": "6iNfkuty5CgR"
      },
      "execution_count": null,
      "outputs": []
    },
    {
      "cell_type": "markdown",
      "source": [
        "Write a Python Program to input basic salary of an employee and calculate its\n",
        "\n",
        "Gross salary  according to following:\n",
        "\n",
        "Basic Salary <= 10000 : HRA = 20%,\n",
        "\n",
        "DA = 80% Basic Salary <= 20000  : HRA = 25%,\n",
        "\n",
        "DA = 90% Basic Salary > 20000 : HRA = 30%,\n",
        "\n",
        "DA = 95%"
      ],
      "metadata": {
        "id": "nacXGYGP41YZ"
      }
    },
    {
      "cell_type": "code",
      "source": [
        "basic_salary = float(input(\"Enter the basic salary: \"))\n",
        "hra = 0\n",
        "da = 0\n",
        "if basic_salary <= 10000:\n",
        "    hra = 0.20 * basic_salary\n",
        "    da = 0.80 * basic_salary\n",
        "elif basic_salary <= 20000:\n",
        "    hra = 0.25 * basic_salary\n",
        "    da = 0.90 * basic_salary\n",
        "else:\n",
        "    hra = 0.30 * basic_salary\n",
        "    da = 0.95 * basic_salary\n",
        "\n",
        "gross_salary = basic_salary + hra + da\n",
        "\n",
        "print(f\"Gross Salary = {gross_salary:.2f}\")\n"
      ],
      "metadata": {
        "id": "Wyc5oAve5DB8"
      },
      "execution_count": null,
      "outputs": []
    },
    {
      "cell_type": "markdown",
      "source": [
        "Write a Python program to check the validity of password input by users.  \n",
        "\n",
        "Validation:  \n",
        "∙ At least 1 letter between [a-z] and 1 letter between [A-Z].  \n",
        "∙ At least 1 number between [0-9].  \n",
        "∙ At least 1 character from [$#@].  \n",
        "∙ Minimum length 6 characters.  \n",
        "∙ Maximum length 16 characters.\n"
      ],
      "metadata": {
        "id": "h1hvg6mF43VR"
      }
    },
    {
      "cell_type": "code",
      "source": [
        "password = input(\"Enter a password: \")\n",
        "\n",
        "length_ok = 6 <= len(password) <= 16\n",
        "has_lower = any(c.islower() for c in password)\n",
        "has_upper = any(c.isupper() for c in password)\n",
        "has_digit = any(c.isdigit() for c in password)\n",
        "has_special = any(c in \"$#@\" for c in password)\n",
        "\n",
        "if length_ok and has_lower and has_upper and has_digit and has_special:\n",
        "    print(\"Password is valid.\")\n",
        "else:\n",
        "    print(\"Password is invalid. Make sure it:\")\n",
        "    print(\"- Has length between 6 and 16 characters\")\n",
        "    print(\"- Contains at least one lowercase letter [a-z]\")\n",
        "    print(\"- Contains at least one uppercase letter [A-Z]\")\n",
        "    print(\"- Contains at least one digit [0-9]\")\n",
        "    print(\"- Contains at least one special character from [$#@]\")\n"
      ],
      "metadata": {
        "id": "IdUhSVVc5Dew"
      },
      "execution_count": null,
      "outputs": []
    },
    {
      "cell_type": "markdown",
      "source": [
        "Create a List L that is defined as= [10, 20, 30, 40, 50, 60, 70, 80]\n",
        "\n",
        "(i) WAP to add 200 and 300 to L\n",
        "\n",
        "(ii) WAP to remove 10 and 30 from L\n",
        "\n",
        "(iii) WAP to sort L in ascending order\n",
        "\n",
        "(iv) WAP to sort L in descending order\n"
      ],
      "metadata": {
        "id": "st1s5Nzo440d"
      }
    },
    {
      "cell_type": "code",
      "source": [
        "L = [10, 20, 30, 40, 50, 60, 70, 80]\n",
        "\n",
        "L.append(200)\n",
        "L.append(300)\n",
        "print(\"After adding 200 and 300:\", L)\n",
        "\n",
        "L.remove(10)\n",
        "L.remove(30)\n",
        "print(\"After removing 10 and 30:\", L)\n",
        "\n",
        "L.sort()\n",
        "print(\"Sorted in ascending order:\", L)\n",
        "\n",
        "L.sort(reverse=True)\n",
        "print(\"Sorted in descending order:\", L)\n"
      ],
      "metadata": {
        "id": "4ZJeuvuS5ENC"
      },
      "execution_count": null,
      "outputs": []
    },
    {
      "cell_type": "markdown",
      "source": [
        "D is a dictionary defined as D= {1:”One”, 2:”Two”, 3:”Three”, 4: “Four”, 5:”Five”}\n",
        "\n",
        "(i) WAP to add new entry in D; key=6 and value is “Six”\n",
        "\n",
        "(ii) WAP to remove key=2.\n",
        "\n",
        "(iii) WAP to check if 6 key is present in D.\n",
        "\n",
        "(iv) WAP to count the number of elements present in D.\n",
        "\n",
        "(v) WAP to add all the values present D.\n"
      ],
      "metadata": {
        "id": "ZaFQtrDk461P"
      }
    },
    {
      "cell_type": "code",
      "source": [
        "D = {1: \"One\", 2: \"Two\", 3: \"Three\", 4: \"Four\", 5: \"Five\"}\n",
        "\n",
        "D[6] = \"Six\"\n",
        "print(\"After adding key 6:\", D)\n",
        "\n",
        "if 2 in D:\n",
        "    D.pop(2)\n",
        "print(\"After removing key 2:\", D)\n",
        "\n",
        "if 6 in D:\n",
        "    print(\"Key 6 is present in the dictionary.\")\n",
        "else:\n",
        "    print(\"Key 6 is not present.\")\n",
        "\n",
        "count = len(D)\n",
        "print(\"Number of elements in D:\", count)\n",
        "\n",
        "all_values = \"\".join(D.values())\n",
        "print(\"All values combined:\", all_values)\n"
      ],
      "metadata": {
        "id": "UVdWXFv85ExF"
      },
      "execution_count": null,
      "outputs": []
    },
    {
      "cell_type": "markdown",
      "source": [
        "WAP to create a list of 100 random numbers between 100 and 900. Count and print the:  \n",
        "\n",
        "(i) All odd numbers\n",
        "\n",
        "(ii) All even numbers\n",
        "\n",
        "(iii) All prime numbers\n"
      ],
      "metadata": {
        "id": "aWvAjOjR48wS"
      }
    },
    {
      "cell_type": "code",
      "source": [
        "import random\n",
        "\n",
        "def is_prime(n):\n",
        "    if n <= 1:\n",
        "        return False\n",
        "    for i in range(2, int(n**0.5) + 1):\n",
        "        if n % i == 0:\n",
        "            return False\n",
        "    return True\n",
        "\n",
        "numbers = [random.randint(100, 900) for _ in range(100)]\n",
        "\n",
        "odd_numbers = [num for num in numbers if num % 2 != 0]\n",
        "even_numbers = [num for num in numbers if num % 2 == 0]\n",
        "prime_numbers = [num for num in numbers if is_prime(num)]\n",
        "\n",
        "print(f\"Total numbers generated: {len(numbers)}\\n\")\n",
        "\n",
        "print(f\"Odd numbers count: {len(odd_numbers)}\")\n",
        "print(\"Odd numbers:\", odd_numbers, \"\\n\")\n",
        "\n",
        "print(f\"Even numbers count: {len(even_numbers)}\")\n",
        "print(\"Even numbers:\", even_numbers, \"\\n\")\n",
        "\n",
        "print(f\"Prime numbers count: {len(prime_numbers)}\")\n",
        "print(\"Prime numbers:\", prime_numbers)\n"
      ],
      "metadata": {
        "id": "7DVIi0Al5FKV"
      },
      "execution_count": null,
      "outputs": []
    },
    {
      "cell_type": "markdown",
      "source": [
        "(i) Write a function which takes principal amount, interest rate and time. This function returns compound interest. Call this function to print the output."
      ],
      "metadata": {
        "id": "ON4YOZiQ4-dl"
      }
    },
    {
      "cell_type": "code",
      "source": [
        "def compound_interest(principal, rate, time):\n",
        "    amount = principal * (1 + rate / 100) ** time\n",
        "    ci = amount - principal\n",
        "    return ci\n",
        "\n",
        "p = float(input(\"Enter principal amount: \"))\n",
        "r = float(input(\"Enter interest rate (%): \"))\n",
        "t = float(input(\"Enter time (years): \"))\n",
        "\n",
        "ci = compound_interest(p, r, t)\n",
        "print(f\"Compound Interest = {ci:.2f}\")"
      ],
      "metadata": {
        "id": "Z8TV4mn85Fs9"
      },
      "execution_count": null,
      "outputs": []
    },
    {
      "cell_type": "markdown",
      "source": [
        "(ii) Save this function (as a module) in a python file and call it in another python file"
      ],
      "metadata": {
        "id": "elmQxNIgGdA7"
      }
    },
    {
      "cell_type": "code",
      "source": [
        "# compound_interest.py\n",
        "def compound_interest(principal, rate, time):\n",
        "    amount = principal * (1 + rate / 100) ** time\n",
        "    ci = amount - principal\n",
        "    return ci"
      ],
      "metadata": {
        "id": "n5x1195LGd0r"
      },
      "execution_count": null,
      "outputs": []
    },
    {
      "cell_type": "code",
      "source": [
        "# main.py\n",
        "from compound_interest import compound_interest\n",
        "\n",
        "p = float(input(\"Enter principal amount: \"))\n",
        "r = float(input(\"Enter interest rate (%): \"))\n",
        "t = float(input(\"Enter time (years): \"))\n",
        "\n",
        "ci = compound_interest(p, r, t)\n",
        "print(f\"Compound Interest = {ci:.2f}\")\n"
      ],
      "metadata": {
        "id": "GVtZle4AG3O8"
      },
      "execution_count": null,
      "outputs": []
    },
    {
      "cell_type": "markdown",
      "source": [
        "A) Make a class called Restaurant. The __init__() method for Restaurant should store two  attributes: a restaurant_name and a cuisine_type. Make a method called describe_restaurant()  that prints these two pieces of information, and a method called open_restaurant() that prints a  message indicating that the restaurant is open. Make an instance called restaurant from your  class. Print the two attributes individually, and then call both methods."
      ],
      "metadata": {
        "id": "b1rtPzwH5AQO"
      }
    },
    {
      "cell_type": "code",
      "source": [
        "class Restaurant:\n",
        "    def __init__(self, restaurant_name, cuisine_type):\n",
        "        self.restaurant_name = restaurant_name\n",
        "        self.cuisine_type = cuisine_type\n",
        "\n",
        "    def describe_restaurant(self):\n",
        "        print(f\"Restaurant Name: {self.restaurant_name}\")\n",
        "        print(f\"Cuisine Type: {self.cuisine_type}\")\n",
        "\n",
        "    def open_restaurant(self):\n",
        "        print(f\"{self.restaurant_name} is now open!\")\n",
        "\n",
        "restaurant = Restaurant(\"The Food Place\", \"Italian\")\n",
        "\n",
        "print(restaurant.restaurant_name)\n",
        "print(restaurant.cuisine_type)\n",
        "\n",
        "restaurant.describe_restaurant()\n",
        "restaurant.open_restaurant()"
      ],
      "metadata": {
        "id": "8kXNHH2Q5GLp"
      },
      "execution_count": null,
      "outputs": []
    },
    {
      "cell_type": "markdown",
      "source": [
        "B) Make a class called User. Create two attributes called first_name and last_name, and then  create several other attributes that are typically stored in a user profile. Make a method called  describe_user() that prints a summary of the user’s information. Make another method called  greet_user() that prints a personalized greeting to the user. Create several instances representing  different users, and call both method for each user."
      ],
      "metadata": {
        "id": "s9DBfJWrHLIf"
      }
    },
    {
      "cell_type": "code",
      "source": [
        "class User:\n",
        "    def __init__(self, first_name, last_name, age, email, location):\n",
        "        self.first_name = first_name\n",
        "        self.last_name = last_name\n",
        "        self.age = age\n",
        "        self.email = email\n",
        "        self.location = location\n",
        "\n",
        "    def describe_user(self):\n",
        "        print(f\"User Information:\")\n",
        "        print(f\"Name: {self.first_name} {self.last_name}\")\n",
        "        print(f\"Age: {self.age}\")\n",
        "        print(f\"Email: {self.email}\")\n",
        "        print(f\"Location: {self.location}\")\n",
        "\n",
        "    def greet_user(self):\n",
        "        print(f\"Hello, {self.first_name}! Welcome back!\")\n",
        "\n",
        "user1 = User(\"Alice\", \"Smith\", 28, \"alice@example.com\", \"New York\")\n",
        "user2 = User(\"Bob\", \"Johnson\", 35, \"bob@example.com\", \"California\")\n",
        "user3 = User(\"Charlie\", \"Brown\", 22, \"charlie@example.com\", \"Texas\")\n",
        "\n",
        "for user in [user1, user2, user3]:\n",
        "    user.describe_user()\n",
        "    user.greet_user()"
      ],
      "metadata": {
        "id": "QaX_k0bjHLz_"
      },
      "execution_count": null,
      "outputs": []
    }
  ]
}